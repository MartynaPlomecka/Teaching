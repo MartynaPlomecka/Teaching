{
  "nbformat": 4,
  "nbformat_minor": 0,
  "metadata": {
    "colab": {
      "name": "Aline_SVM.ipynb",
      "provenance": [],
      "authorship_tag": "ABX9TyPtnqpxdeCOkLp28cPkNapx",
      "include_colab_link": true
    },
    "kernelspec": {
      "name": "python3",
      "display_name": "Python 3"
    }
  },
  "cells": [
    {
      "cell_type": "markdown",
      "metadata": {
        "id": "view-in-github",
        "colab_type": "text"
      },
      "source": [
        "<a href=\"https://colab.research.google.com/github/MartynaPlomecka/Teaching/blob/master/Aline_SVM.ipynb\" target=\"_parent\"><img src=\"https://colab.research.google.com/assets/colab-badge.svg\" alt=\"Open In Colab\"/></a>"
      ]
    },
    {
      "cell_type": "code",
      "metadata": {
        "id": "LijraIHj_Ata",
        "colab_type": "code",
        "colab": {
          "base_uri": "https://localhost:8080/",
          "height": 111
        },
        "outputId": "53ebef6a-9543-4fe4-a2d8-4554faa43d52"
      },
      "source": [
        "import pandas as pd #this is math library\n",
        "import seaborn as sns #this is for nice plots\n",
        "import matplotlib.pyplot as plt   #maths + plotting\n",
        "from sklearn.svm import SVC\n",
        "from sklearn import svm\n",
        "\n",
        "\n",
        "from sklearn.metrics import confusion_matrix, classification_report  #tools for assesing \n",
        "from sklearn.preprocessing import StandardScaler, LabelEncoder\n",
        "from sklearn.model_selection import train_test_split\n",
        "\n",
        "%matplotlib inline"
      ],
      "execution_count": 2,
      "outputs": [
        {
          "output_type": "stream",
          "text": [
            "/usr/local/lib/python3.6/dist-packages/statsmodels/tools/_testing.py:19: FutureWarning: pandas.util.testing is deprecated. Use the functions in the public API at pandas.testing instead.\n",
            "  import pandas.util.testing as tm\n"
          ],
          "name": "stderr"
        }
      ]
    },
    {
      "cell_type": "code",
      "metadata": {
        "id": "gmGHyQbVKSli",
        "colab_type": "code",
        "colab": {}
      },
      "source": [
        "#loading dataset\n",
        "table = pd.read_csv('spectromeanalpha_5elec_fullpre.csv', sep = \";\")"
      ],
      "execution_count": 0,
      "outputs": []
    },
    {
      "cell_type": "code",
      "metadata": {
        "id": "tR-LLBWtLLbH",
        "colab_type": "code",
        "colab": {
          "base_uri": "https://localhost:8080/",
          "height": 204
        },
        "outputId": "8162c680-47b7-4a26-d638-8208cfdff26f"
      },
      "source": [
        "table.head()"
      ],
      "execution_count": 6,
      "outputs": [
        {
          "output_type": "execute_result",
          "data": {
            "text/html": [
              "<div>\n",
              "<style scoped>\n",
              "    .dataframe tbody tr th:only-of-type {\n",
              "        vertical-align: middle;\n",
              "    }\n",
              "\n",
              "    .dataframe tbody tr th {\n",
              "        vertical-align: top;\n",
              "    }\n",
              "\n",
              "    .dataframe thead th {\n",
              "        text-align: right;\n",
              "    }\n",
              "</style>\n",
              "<table border=\"1\" class=\"dataframe\">\n",
              "  <thead>\n",
              "    <tr style=\"text-align: right;\">\n",
              "      <th></th>\n",
              "      <th>2.3824,1.9848,1.9209,1.8662,1.9963,0</th>\n",
              "    </tr>\n",
              "  </thead>\n",
              "  <tbody>\n",
              "    <tr>\n",
              "      <th>0</th>\n",
              "      <td>2.5726,2.1474,2.5249,2.2316,2.6843,0</td>\n",
              "    </tr>\n",
              "    <tr>\n",
              "      <th>1</th>\n",
              "      <td>2.1663,1.8129,1.9975,1.6667,1.9586,0</td>\n",
              "    </tr>\n",
              "    <tr>\n",
              "      <th>2</th>\n",
              "      <td>3.0218,2.452,2.1904,1.849,1.8032,0</td>\n",
              "    </tr>\n",
              "    <tr>\n",
              "      <th>3</th>\n",
              "      <td>2.3169,2.0428,2.2408,2.067,2.2453,0</td>\n",
              "    </tr>\n",
              "    <tr>\n",
              "      <th>4</th>\n",
              "      <td>1.973,1.7123,2.1611,2.0374,2.6479,0</td>\n",
              "    </tr>\n",
              "  </tbody>\n",
              "</table>\n",
              "</div>"
            ],
            "text/plain": [
              "   2.3824,1.9848,1.9209,1.8662,1.9963,0\n",
              "0  2.5726,2.1474,2.5249,2.2316,2.6843,0\n",
              "1  2.1663,1.8129,1.9975,1.6667,1.9586,0\n",
              "2    3.0218,2.452,2.1904,1.849,1.8032,0\n",
              "3   2.3169,2.0428,2.2408,2.067,2.2453,0\n",
              "4   1.973,1.7123,2.1611,2.0374,2.6479,0"
            ]
          },
          "metadata": {
            "tags": []
          },
          "execution_count": 6
        }
      ]
    },
    {
      "cell_type": "code",
      "metadata": {
        "id": "rqD6fUIFRSxx",
        "colab_type": "code",
        "colab": {}
      },
      "source": [
        "sns.countplot(table['eyes'])"
      ],
      "execution_count": 0,
      "outputs": []
    },
    {
      "cell_type": "code",
      "metadata": {
        "id": "8QyiPnfdRabn",
        "colab_type": "code",
        "colab": {}
      },
      "source": [
        "group_names = ['closed', 'open']\n",
        "table['eyes'] = pd.cut(table['eyes'], labels = group_names)"
      ],
      "execution_count": 0,
      "outputs": []
    },
    {
      "cell_type": "code",
      "metadata": {
        "id": "uVnsqy5BRaYS",
        "colab_type": "code",
        "colab": {}
      },
      "source": [
        "label_eyes = LabelEncoder() #Encode target labels with value between 0 and n classes-1."
      ],
      "execution_count": 0,
      "outputs": []
    },
    {
      "cell_type": "code",
      "metadata": {
        "id": "dEI0SWjFqxyF",
        "colab_type": "code",
        "colab": {}
      },
      "source": [
        "table['eyes'] = label_eyes.fit_transform(table['eyes'])\n",
        "table.eyes(10)"
      ],
      "execution_count": 0,
      "outputs": []
    },
    {
      "cell_type": "code",
      "metadata": {
        "id": "wdRTcWShrYuS",
        "colab_type": "code",
        "colab": {}
      },
      "source": [
        "table['eyes'].value_counts()#huge disproportion!\n",
        "#you can plot them with a sns library:\n",
        "sns.countplot(table['eyes'])"
      ],
      "execution_count": 0,
      "outputs": []
    },
    {
      "cell_type": "markdown",
      "metadata": {
        "id": "gfQ08Hs4X83w",
        "colab_type": "text"
      },
      "source": [
        ""
      ]
    },
    {
      "cell_type": "code",
      "metadata": {
        "id": "K-ETVm-0rkNr",
        "colab_type": "code",
        "colab": {}
      },
      "source": [
        "#we want to have a balanced dataset\n",
        "\n",
        "\n",
        "#OLD CODE"
      ],
      "execution_count": 0,
      "outputs": []
    },
    {
      "cell_type": "code",
      "metadata": {
        "id": "yLH8D_kPt3gU",
        "colab_type": "code",
        "colab": {}
      },
      "source": [
        "#IMPORTANT!\n",
        "#now we separate the dataset as response variable and feature variables\n",
        "X = table.drop('eyes', axis =) #Drop specified labels from rows (axis = 0) or columns (axis = 1).\n",
        "y = table['eyes']"
      ],
      "execution_count": 0,
      "outputs": []
    },
    {
      "cell_type": "code",
      "metadata": {
        "id": "kq7EYOKRt3kX",
        "colab_type": "code",
        "colab": {}
      },
      "source": [
        "#train and test splitting of data (you can play with it)\n",
        "X_train, X_test, y_train, y_test = train_test_split (X, y, test_size = 0.2)\n",
        "\n",
        "#Applying standard scaling to get optimized results\n",
        "sc = StandardScaler\n",
        "X_train = sc.fit_transfore(X_train)\n",
        "X_test = sc.fit_transfore(X_train)"
      ],
      "execution_count": 0,
      "outputs": []
    },
    {
      "cell_type": "code",
      "metadata": {
        "id": "Z1bPP5hlvLlJ",
        "colab_type": "code",
        "colab": {}
      },
      "source": [
        "#finally - SVM classifier\n",
        "clf = svm.SVCclf.fit(X_train, y_train)\n",
        "pred_clf = clf.predict(X_test)"
      ],
      "execution_count": 0,
      "outputs": []
    },
    {
      "cell_type": "code",
      "metadata": {
        "id": "i7vGOzxcvept",
        "colab_type": "code",
        "colab": {}
      },
      "source": [
        "#Let's see how our model performed\n",
        "print(classificstion_report(y_test, pred_clf))\n",
        "print(confusion_matrix(y_test, pred_clf))"
      ],
      "execution_count": 0,
      "outputs": []
    }
  ]
}